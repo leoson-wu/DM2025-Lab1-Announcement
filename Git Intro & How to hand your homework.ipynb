{
 "cells": [
  {
   "cell_type": "markdown",
   "metadata": {},
   "source": [
    "# How to hand your homework"
   ]
  },
  {
   "cell_type": "markdown",
   "metadata": {},
   "source": [
    "Git is a version control tool that helps you keep track of your work, collaborate with other people, and restore old versions of a document. Here we do a brief overview.\n",
    "\n",
    "To hand in your homework, you will need to:"
   ]
  },
  {
   "cell_type": "markdown",
   "metadata": {},
   "source": [
    "And it will redirect you to a \"copy\" of the code in your own page. Once in your page (check that your name shows up at the top left corner), Click the green button \"Code\", and the clipboard button besides the lnk that pops up.\n",
    "\n",
    "![gitpic3](img/gitpic3.png)"
   ]
  },
  {
   "cell_type": "markdown",
   "metadata": {},
   "source": [
    "### 2. Create a folder in your computer and set it up"
   ]
  },
  {
   "cell_type": "markdown",
   "metadata": {},
   "source": [
    "Open a \"Command Prompt\" window in Windows or a \"Terminal\" window in MacOS/Linux. Type the following commands followed by the Enter key:\n",
    "\n",
    "    cd yourpath\n",
    "    mkdir DM2025Labs\n",
    "    cd DM2025Labs\n",
    "    git init\n",
    "    git clone linkyoucopied (https://github.com/<your-github-username>/DM2025-Lab1-Exercise.git)\n",
    "    \n",
    "Replacing \"yourpath\" by the path where you're going to store your documents, and \"linkyoucopied\" with the link you copied at the end of step 1. Below is an example, where I store my Lab in the \"Downloads\" folder."
   ]
  },
  {
   "cell_type": "markdown",
   "metadata": {},
   "source": [
    "![gitpic4](img/gitpic4.png)"
   ]
  },
  {
   "cell_type": "markdown",
   "metadata": {},
   "source": [
    "Your homework will be located in the path \"yourpath\" (in this example, the \"Downloads\" folder) in a folder named \"DMLab1\". You can open a Jupyter Notebook server and search for the folder DMLab1. You can then double click on the \"DM2024-Lab1-Master.ipynb\" notebook and open. \n",
    "\n",
    "You can then start to edit!"
   ]
  },
  {
   "cell_type": "markdown",
   "metadata": {},
   "source": [
    "### 3. Save changes and push"
   ]
  },
  {
   "cell_type": "markdown",
   "metadata": {},
   "source": [
    "Remember to save your notebooks. You will also have to \"Push\" the changes you've made in your computer to the internet. In order to do this, open a \"Command Prompt\" window in Windows or a \"Terminal\" window in MacOS/Linux. Type the following commands followed by the Enter key:\n",
    "\n",
    "    cd yourpath\n",
    "    cd DM2025Labs\n",
    "    cd DM2025-Lab1-Exercise\n",
    "    git add *\n",
    "    git commit -m \"yourmessage\"\n",
    "    git push \n",
    "    \n",
    "You can replace \"yourmessage\" with something like \"Finished Ex1 and Ex2. Added graph for Ex. 6\" . You can save and commit as often as you like. Below is an example:\n",
    "\n",
    "![gitpic5](img/gitpic5.png)"
   ]
  },
  {
   "cell_type": "markdown",
   "metadata": {},
   "source": [
    "### 4. Hand in your homework"
   ]
  },
  {
   "cell_type": "markdown",
   "metadata": {},
   "source": [
    "Go to the [DM Lab 1 Homework](https://github.com/leoson-wu/DM2025-Lab1-Exercise/blob/main/DM2025-Lab1-Homework.ipynb) in Git and follow the same process above.  Make sure to commit and save your changes to your repository __BEFORE the deadline for each phase (September 28th and October 19th 11:59 pm, Sunday)__. During the second phase, the answers from first phase will not be considered if can not be pushed on time.\n",
    "\n",
    "Make sure to hand in 2 notebooks, including: \n",
    "1. Take home exercises from [DM Lab 1](https://github.com/leoson-wu/DM2025-Lab1-Exercise/blob/main/DM2025-Lab1-Master.ipynb)\n",
    "2. The homework itself [DM Lab 1 Homework](https://github.com/leoson-wu/DM2025-Lab1-Exercise/blob/main/DM2025-Lab1-Homework.ipynb)\n",
    "\n",
    "![gitpic6](img/gitpic6.png)\n",
    "\n",
    "When you're done (or at any moment), find your repository link. Open the **\\[DM2025\\] Homework 1** assignment page on our [NTU COOL platform](https://cool.ntu.edu.tw/login/portal) for each phase. Make a submission and paste the link to your git repository (or the link to your kaggle kernel). \n",
    "\n",
    "You can find your repository link by logging into [Github](https://github.com/), clicking on your profile icon on the upper right corner, selecting \"Your repositories\", and clicking on the name of your repository . Then copy the link in your browser. \n",
    "\n",
    "Again, __we will not consider pushes made after the deadline__. \n",
    "\n",
    "That's it! We wish you Good luck!"
   ]
  },
  {
   "cell_type": "markdown",
   "metadata": {},
   "source": []
  }
 ],
 "metadata": {
  "kernelspec": {
   "display_name": "Python 3 (ipykernel)",
   "language": "python",
   "name": "python3"
  },
  "language_info": {
   "codemirror_mode": {
    "name": "ipython",
    "version": 3
   },
   "file_extension": ".py",
   "mimetype": "text/x-python",
   "name": "python",
   "nbconvert_exporter": "python",
   "pygments_lexer": "ipython3",
   "version": "3.11.5"
  }
 },
 "nbformat": 4,
 "nbformat_minor": 2
}
